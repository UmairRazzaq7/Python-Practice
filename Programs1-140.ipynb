{
 "cells": [
  {
   "cell_type": "markdown",
   "id": "c2dccc6d",
   "metadata": {},
   "source": [
    "### Program # 1"
   ]
  },
  {
   "cell_type": "code",
   "execution_count": 1,
   "id": "cb1e5b05",
   "metadata": {},
   "outputs": [
    {
     "name": "stdout",
     "output_type": "stream",
     "text": [
      "Hello, Umair!\n"
     ]
    }
   ],
   "source": [
    "print(\"Hello, Umair!\")"
   ]
  },
  {
   "cell_type": "markdown",
   "id": "46775106",
   "metadata": {},
   "source": [
    "### Program # 2"
   ]
  },
  {
   "cell_type": "code",
   "execution_count": 2,
   "id": "2eb01444",
   "metadata": {},
   "outputs": [
    {
     "name": "stdout",
     "output_type": "stream",
     "text": [
      "25.0\n"
     ]
    }
   ],
   "source": [
    "#Print sum of two numbers\n",
    "n1 = float(input(\"Enter first number: \"))\n",
    "n2 = float(input(\"Enter second number: \"))\n",
    "\n",
    "sum = n1 + n2\n",
    "\n",
    "print(sum)"
   ]
  },
  {
   "cell_type": "code",
   "execution_count": 11,
   "id": "e3867ec1",
   "metadata": {},
   "outputs": [
    {
     "name": "stdout",
     "output_type": "stream",
     "text": [
      "5.0\n"
     ]
    }
   ],
   "source": [
    "#Division of two numbers\n",
    "n3 = float(input(\"Enter first number: \"))\n",
    "n4 = float(input(\"Enter second number: \"))\n",
    "\n",
    "division= n3/n4\n",
    "if n4 == 0:\n",
    "    raise ValueError(\"Cannot divide by zero\")\n",
    "    \n",
    "    \n",
    "else: \n",
    "    print(division)\n",
    "\n"
   ]
  },
  {
   "cell_type": "code",
   "execution_count": 12,
   "id": "9de2eaba",
   "metadata": {},
   "outputs": [
    {
     "name": "stdout",
     "output_type": "stream",
     "text": [
      "15.0\n"
     ]
    }
   ],
   "source": [
    "#Multiplication of two numbers\n",
    "n5 = float(input(\"Enter first number: \"))\n",
    "n6 = float(input(\"Enter second number: \"))\n",
    "\n",
    "mul = n5 * n6\n",
    "\n",
    "print(mul)"
   ]
  },
  {
   "cell_type": "markdown",
   "id": "82b9408e",
   "metadata": {},
   "source": [
    "### Program # 3"
   ]
  },
  {
   "cell_type": "code",
   "execution_count": null,
   "id": "86756b8e",
   "metadata": {},
   "outputs": [
    {
     "name": "stdout",
     "output_type": "stream",
     "text": [
      "Area of triangle is: 3.0\n"
     ]
    }
   ],
   "source": [
    "#Area of Triangle\n",
    "base = float(input(\"Enter base of triangle: \")) \n",
    "height = float(input(\"Enter height of triangle: \"))\n",
    "area = 0.5 * base * height  \n",
    "\n",
    "print(\"Area of triangle is:\", area)"
   ]
  },
  {
   "cell_type": "code",
   "execution_count": 1,
   "id": "9f57cd84",
   "metadata": {},
   "outputs": [
    {
     "name": "stdout",
     "output_type": "stream",
     "text": [
      "Area of circle is:1661.9\n"
     ]
    }
   ],
   "source": [
    "#Area of a circle\n",
    "\n",
    "#import math library to use pi constant\n",
    "import math\n",
    "\n",
    "radius = float(input(\"Enter radius of circle: \"))\n",
    "\n",
    "#Calculate area of circle using the formula: area = π * r^2\n",
    "\n",
    "area_circle = round(math.pi * (radius ** 2), 2)  # rounding to 2 decimal places \n",
    "\n",
    "#Print the area of circle\n",
    "\n",
    "print(f\"Area of circle is:{area_circle}\")"
   ]
  },
  {
   "cell_type": "markdown",
   "id": "43854eaa",
   "metadata": {},
   "source": [
    "### Program # 4"
   ]
  },
  {
   "cell_type": "code",
   "execution_count": 3,
   "id": "4d81b46d",
   "metadata": {},
   "outputs": [
    {
     "name": "stdout",
     "output_type": "stream",
     "text": [
      "Swapping two variables\n",
      "Before swapping(a):  2\n",
      "Before swapping(b):  3\n",
      "After swapping(a):  3\n",
      "After swapping(b):  2\n"
     ]
    }
   ],
   "source": [
    "#Swap two variables\n",
    "print(\"Swapping two variables\")\n",
    "\n",
    "a = input(\"Enter first variable: \")\n",
    "b = input(\"Enter second variable: \")\n",
    "\n",
    "print(\"Before swapping(a): \",a)\n",
    "print(\"Before swapping(b): \",b)\n",
    "\n",
    "# Swapping using a temporary variable\n",
    "temp = a\n",
    "a  =  b\n",
    "b = temp\n",
    "\n",
    "print(\"After swapping(a): \",a)\n",
    "print(\"After swapping(b): \",b)\n"
   ]
  },
  {
   "cell_type": "code",
   "execution_count": null,
   "id": "e24979d1",
   "metadata": {},
   "outputs": [
    {
     "name": "stdout",
     "output_type": "stream",
     "text": [
      "Before swapping(a):  6\n",
      "Before swapping(b):  2\n",
      "After swapping(a):  2\n",
      "After swapping(b):  6\n"
     ]
    }
   ],
   "source": [
    "# without using a temporary variable\n",
    "a = input(\"Enter first variable: \")\n",
    "b = input(\"Enter second variable: \")\n",
    "\n",
    "print(\"Before swapping(a): \",a)\n",
    "print(\"Before swapping(b): \",b)\n",
    "\n",
    "a, b = b, a\n",
    "print(\"After swapping(a): \",a)\n",
    "print(\"After swapping(b): \",b)"
   ]
  },
  {
   "cell_type": "markdown",
   "id": "efac265a",
   "metadata": {},
   "source": [
    "### Program # 5"
   ]
  },
  {
   "cell_type": "code",
   "execution_count": 10,
   "id": "d1b614b2",
   "metadata": {},
   "outputs": [
    {
     "name": "stdout",
     "output_type": "stream",
     "text": [
      "Generating random number between 1 and 100\n",
      "Random number is: 19\n"
     ]
    }
   ],
   "source": [
    "#Generate random number\n",
    "\n",
    "import random\n",
    "print(\"Generating random number between 1 and 100\")\n",
    "random_number = random.randint(1, 100)\n",
    "\n",
    "print(\"Random number is:\", random_number)"
   ]
  },
  {
   "cell_type": "markdown",
   "id": "d6db727b",
   "metadata": {},
   "source": [
    "### Program # 6"
   ]
  },
  {
   "cell_type": "code",
   "execution_count": 12,
   "id": "67afa450",
   "metadata": {},
   "outputs": [
    {
     "name": "stdout",
     "output_type": "stream",
     "text": [
      "5.0 kilometers is equal to 3.106855 miles\n"
     ]
    }
   ],
   "source": [
    "#Covert Kilometers to Miles\n",
    "\n",
    "kilometers = float(input(\"Enter distance in kilometers: \"))\n",
    "\n",
    "# Conversion factor\n",
    "\n",
    "# 1 kilometer = 0.621371 miles\n",
    "\n",
    "miles = kilometers * 0.621371\n",
    "\n",
    "print(f\"{kilometers} kilometers is equal to {miles} miles\")\n",
    "\n",
    "\n"
   ]
  },
  {
   "cell_type": "markdown",
   "id": "87d72897",
   "metadata": {},
   "source": [
    "### Program # 7"
   ]
  },
  {
   "cell_type": "code",
   "execution_count": 16,
   "id": "1e000e1a",
   "metadata": {},
   "outputs": [
    {
     "name": "stdout",
     "output_type": "stream",
     "text": [
      "40.0 Celsius is equal to 104.0 Fahrenheit\n"
     ]
    }
   ],
   "source": [
    "#Convert Celsius to Fahrenheit\n",
    "\n",
    "celsius = float(input(\"Enter temperature in Celsius: \"))\n",
    "\n",
    "# Conversion formula: Fahrenheit = (Celsius * 9/5) + 32\n",
    "fahrenheit = (celsius * 9/5) + 32\n",
    "\n",
    "print(f\"{celsius} Celsius is equal to {fahrenheit} Fahrenheit\")"
   ]
  },
  {
   "cell_type": "markdown",
   "id": "a8d13f69",
   "metadata": {},
   "source": [
    "### Program # 8"
   ]
  },
  {
   "cell_type": "code",
   "execution_count": 17,
   "id": "6e0e63ac",
   "metadata": {},
   "outputs": [
    {
     "name": "stdout",
     "output_type": "stream",
     "text": [
      "    August 2025\n",
      "Mo Tu We Th Fr Sa Su\n",
      "             1  2  3\n",
      " 4  5  6  7  8  9 10\n",
      "11 12 13 14 15 16 17\n",
      "18 19 20 21 22 23 24\n",
      "25 26 27 28 29 30 31\n",
      "\n"
     ]
    }
   ],
   "source": [
    "# Display Calendar of a month\n",
    "\n",
    "import calendar\n",
    "\n",
    "year = input(\"Enter year: \")\n",
    "month = input(\"Enter month (1-12): \")\n",
    "\n",
    "cal = calendar.month(int(year), int(month))\n",
    "\n",
    "print(cal)"
   ]
  },
  {
   "cell_type": "code",
   "execution_count": 18,
   "id": "9a7258c9",
   "metadata": {},
   "outputs": [
    {
     "name": "stdout",
     "output_type": "stream",
     "text": [
      "                                  2025\n",
      "\n",
      "      January                   February                   March\n",
      "Mo Tu We Th Fr Sa Su      Mo Tu We Th Fr Sa Su      Mo Tu We Th Fr Sa Su\n",
      "       1  2  3  4  5                      1  2                      1  2\n",
      " 6  7  8  9 10 11 12       3  4  5  6  7  8  9       3  4  5  6  7  8  9\n",
      "13 14 15 16 17 18 19      10 11 12 13 14 15 16      10 11 12 13 14 15 16\n",
      "20 21 22 23 24 25 26      17 18 19 20 21 22 23      17 18 19 20 21 22 23\n",
      "27 28 29 30 31            24 25 26 27 28            24 25 26 27 28 29 30\n",
      "                                                    31\n",
      "\n",
      "       April                      May                       June\n",
      "Mo Tu We Th Fr Sa Su      Mo Tu We Th Fr Sa Su      Mo Tu We Th Fr Sa Su\n",
      "    1  2  3  4  5  6                1  2  3  4                         1\n",
      " 7  8  9 10 11 12 13       5  6  7  8  9 10 11       2  3  4  5  6  7  8\n",
      "14 15 16 17 18 19 20      12 13 14 15 16 17 18       9 10 11 12 13 14 15\n",
      "21 22 23 24 25 26 27      19 20 21 22 23 24 25      16 17 18 19 20 21 22\n",
      "28 29 30                  26 27 28 29 30 31         23 24 25 26 27 28 29\n",
      "                                                    30\n",
      "\n",
      "        July                     August                  September\n",
      "Mo Tu We Th Fr Sa Su      Mo Tu We Th Fr Sa Su      Mo Tu We Th Fr Sa Su\n",
      "    1  2  3  4  5  6                   1  2  3       1  2  3  4  5  6  7\n",
      " 7  8  9 10 11 12 13       4  5  6  7  8  9 10       8  9 10 11 12 13 14\n",
      "14 15 16 17 18 19 20      11 12 13 14 15 16 17      15 16 17 18 19 20 21\n",
      "21 22 23 24 25 26 27      18 19 20 21 22 23 24      22 23 24 25 26 27 28\n",
      "28 29 30 31               25 26 27 28 29 30 31      29 30\n",
      "\n",
      "      October                   November                  December\n",
      "Mo Tu We Th Fr Sa Su      Mo Tu We Th Fr Sa Su      Mo Tu We Th Fr Sa Su\n",
      "       1  2  3  4  5                      1  2       1  2  3  4  5  6  7\n",
      " 6  7  8  9 10 11 12       3  4  5  6  7  8  9       8  9 10 11 12 13 14\n",
      "13 14 15 16 17 18 19      10 11 12 13 14 15 16      15 16 17 18 19 20 21\n",
      "20 21 22 23 24 25 26      17 18 19 20 21 22 23      22 23 24 25 26 27 28\n",
      "27 28 29 30 31            24 25 26 27 28 29 30      29 30 31\n",
      "\n"
     ]
    }
   ],
   "source": [
    "#Calendar of a year\n",
    "import calendar\n",
    "year = int(input(\"Enter year: \"))\n",
    "\n",
    "cal = calendar.calendar(year)\n",
    "\n",
    "\n",
    "print(cal)\n",
    "\n"
   ]
  }
 ],
 "metadata": {
  "kernelspec": {
   "display_name": "Python 3",
   "language": "python",
   "name": "python3"
  },
  "language_info": {
   "codemirror_mode": {
    "name": "ipython",
    "version": 3
   },
   "file_extension": ".py",
   "mimetype": "text/x-python",
   "name": "python",
   "nbconvert_exporter": "python",
   "pygments_lexer": "ipython3",
   "version": "3.13.5"
  }
 },
 "nbformat": 4,
 "nbformat_minor": 5
}
