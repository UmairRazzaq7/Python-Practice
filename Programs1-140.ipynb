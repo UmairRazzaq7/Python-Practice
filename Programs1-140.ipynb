{
 "cells": [
  {
   "cell_type": "markdown",
   "id": "c2dccc6d",
   "metadata": {},
   "source": [
    "### Program # 1"
   ]
  },
  {
   "cell_type": "code",
   "execution_count": 10,
   "id": "cb1e5b05",
   "metadata": {},
   "outputs": [
    {
     "name": "stdout",
     "output_type": "stream",
     "text": [
      "Hello, Umair!\n"
     ]
    }
   ],
   "source": [
    "print(\"Hello, Umair!\")"
   ]
  },
  {
   "cell_type": "markdown",
   "id": "7c013c75",
   "metadata": {},
   "source": []
  },
  {
   "cell_type": "markdown",
   "id": "46775106",
   "metadata": {},
   "source": [
    "### Program # 2"
   ]
  },
  {
   "cell_type": "code",
   "execution_count": null,
   "id": "2eb01444",
   "metadata": {},
   "outputs": [
    {
     "name": "stdout",
     "output_type": "stream",
     "text": [
      "7.0\n"
     ]
    }
   ],
   "source": [
    "#Print sum of two numbers\n",
    "n1 = float(input(\"Enter first number: \"))\n",
    "n2 = float(input(\"Enter second number: \"))\n",
    "\n",
    "total = n1 + n2\n",
    "\n",
    "print(total)"
   ]
  },
  {
   "cell_type": "code",
   "execution_count": 12,
   "id": "e3867ec1",
   "metadata": {},
   "outputs": [
    {
     "name": "stdout",
     "output_type": "stream",
     "text": [
      "Now, let's divide two numbers.\n",
      "1st number is :  2.0\n",
      "2nd number is :  3.0\n",
      "0.6666666666666666\n"
     ]
    }
   ],
   "source": [
    "#Division of two numbers\n",
    "print(\"Now, let's divide two numbers.\")\n",
    "n3 = float(input(\"Enter first number: \"))\n",
    "print(\"1st number is : \",n3)\n",
    "n4 = float(input(\"Enter second number: \"))\n",
    "print(\"2nd number is : \",n4)\n",
    "\n",
    "division= n3/n4\n",
    "if n4 == 0:\n",
    "    raise ValueError(\"Cannot divide by zero\")\n",
    "    \n",
    "    \n",
    "else: \n",
    "    print(division)\n",
    "\n"
   ]
  },
  {
   "cell_type": "code",
   "execution_count": 13,
   "id": "9de2eaba",
   "metadata": {},
   "outputs": [
    {
     "name": "stdout",
     "output_type": "stream",
     "text": [
      "32.0\n"
     ]
    }
   ],
   "source": [
    "#Multiplication of two numbers\n",
    "n5 = float(input(\"Enter first number: \"))\n",
    "n6 = float(input(\"Enter second number: \"))\n",
    "\n",
    "mul = n5 * n6\n",
    "\n",
    "print(mul)"
   ]
  },
  {
   "cell_type": "markdown",
   "id": "82b9408e",
   "metadata": {},
   "source": [
    "### Program # 3"
   ]
  },
  {
   "cell_type": "code",
   "execution_count": 14,
   "id": "86756b8e",
   "metadata": {},
   "outputs": [
    {
     "name": "stdout",
     "output_type": "stream",
     "text": [
      "Area of triangle is: 12.0\n"
     ]
    }
   ],
   "source": [
    "#Area of Triangle\n",
    "base = float(input(\"Enter base of triangle: \")) \n",
    "height = float(input(\"Enter height of triangle: \"))\n",
    "area = 0.5 * base * height  \n",
    "\n",
    "print(\"Area of triangle is:\", area)"
   ]
  },
  {
   "cell_type": "code",
   "execution_count": 15,
   "id": "9f57cd84",
   "metadata": {},
   "outputs": [
    {
     "name": "stdout",
     "output_type": "stream",
     "text": [
      "Area of circle is:153.94\n"
     ]
    }
   ],
   "source": [
    "#Area of a circle\n",
    "\n",
    "#import math library to use pi constant\n",
    "import math\n",
    "\n",
    "radius = float(input(\"Enter radius of circle: \"))\n",
    "\n",
    "#Calculate area of circle using the formula: area = π * r^2\n",
    "\n",
    "area_circle = round(math.pi * (radius ** 2), 2)  # rounding to 2 decimal places \n",
    "\n",
    "#Print the area of circle\n",
    "\n",
    "print(f\"Area of circle is:{area_circle}\")"
   ]
  },
  {
   "cell_type": "markdown",
   "id": "43854eaa",
   "metadata": {},
   "source": [
    "### Program # 4"
   ]
  },
  {
   "cell_type": "code",
   "execution_count": 16,
   "id": "4d81b46d",
   "metadata": {},
   "outputs": [
    {
     "name": "stdout",
     "output_type": "stream",
     "text": [
      "Swapping two variables\n",
      "Before swapping(a):  2\n",
      "Before swapping(b):  8\n",
      "After swapping(a):  8\n",
      "After swapping(b):  2\n"
     ]
    }
   ],
   "source": [
    "#Swap two variables\n",
    "print(\"Swapping two variables\")\n",
    "\n",
    "a = input(\"Enter first variable: \")\n",
    "b = input(\"Enter second variable: \")\n",
    "\n",
    "print(\"Before swapping(a): \",a)\n",
    "print(\"Before swapping(b): \",b)\n",
    "\n",
    "# Swapping using a temporary variable\n",
    "temp = a\n",
    "a  =  b\n",
    "b = temp\n",
    "\n",
    "print(\"After swapping(a): \",a)\n",
    "print(\"After swapping(b): \",b)\n"
   ]
  },
  {
   "cell_type": "markdown",
   "id": "efac265a",
   "metadata": {},
   "source": [
    "### Program # 5"
   ]
  },
  {
   "cell_type": "code",
   "execution_count": 17,
   "id": "d1b614b2",
   "metadata": {},
   "outputs": [
    {
     "name": "stdout",
     "output_type": "stream",
     "text": [
      "Generating random number between 1 and 100\n",
      "Random number is: 7\n"
     ]
    }
   ],
   "source": [
    "#Generate random number\n",
    "\n",
    "import random\n",
    "print(\"Generating random number between 1 and 100\")\n",
    "random_number = random.randint(1, 100)\n",
    "\n",
    "print(\"Random number is:\", random_number)"
   ]
  },
  {
   "cell_type": "markdown",
   "id": "d6db727b",
   "metadata": {},
   "source": [
    "### Program # 6"
   ]
  },
  {
   "cell_type": "code",
   "execution_count": 18,
   "id": "67afa450",
   "metadata": {},
   "outputs": [
    {
     "name": "stdout",
     "output_type": "stream",
     "text": [
      "10.0 kilometers is equal to 6.21371 miles\n"
     ]
    }
   ],
   "source": [
    "#Covert Kilometers to Miles\n",
    "\n",
    "kilometers = float(input(\"Enter distance in kilometers: \"))\n",
    "\n",
    "# Conversion factor\n",
    "\n",
    "# 1 kilometer = 0.621371 miles\n",
    "\n",
    "miles = kilometers * 0.621371\n",
    "\n",
    "print(f\"{kilometers} kilometers is equal to {miles} miles\")\n",
    "\n",
    "\n"
   ]
  },
  {
   "cell_type": "markdown",
   "id": "87d72897",
   "metadata": {},
   "source": [
    "### Program # 7"
   ]
  },
  {
   "cell_type": "code",
   "execution_count": 19,
   "id": "1e000e1a",
   "metadata": {},
   "outputs": [
    {
     "name": "stdout",
     "output_type": "stream",
     "text": [
      "38.0 Celsius is equal to 100.4 Fahrenheit\n"
     ]
    }
   ],
   "source": [
    "#Convert Celsius to Fahrenheit\n",
    "\n",
    "celsius = float(input(\"Enter temperature in Celsius: \"))\n",
    "\n",
    "# Conversion formula: Fahrenheit = (Celsius * 9/5) + 32\n",
    "fahrenheit = (celsius * 9/5) + 32\n",
    "\n",
    "print(f\"{celsius} Celsius is equal to {fahrenheit} Fahrenheit\")"
   ]
  },
  {
   "cell_type": "markdown",
   "id": "a8d13f69",
   "metadata": {},
   "source": [
    "### Program # 8"
   ]
  },
  {
   "cell_type": "code",
   "execution_count": 20,
   "id": "6e0e63ac",
   "metadata": {},
   "outputs": [
    {
     "name": "stdout",
     "output_type": "stream",
     "text": [
      "    August 2025\n",
      "Mo Tu We Th Fr Sa Su\n",
      "             1  2  3\n",
      " 4  5  6  7  8  9 10\n",
      "11 12 13 14 15 16 17\n",
      "18 19 20 21 22 23 24\n",
      "25 26 27 28 29 30 31\n",
      "\n"
     ]
    }
   ],
   "source": [
    "# Display Calendar of a month\n",
    "\n",
    "import calendar\n",
    "\n",
    "year = input(\"Enter year: \")\n",
    "month = input(\"Enter month (1-12): \")\n",
    "\n",
    "cal = calendar.month(int(year), int(month))\n",
    "\n",
    "print(cal)"
   ]
  },
  {
   "cell_type": "code",
   "execution_count": 21,
   "id": "9a7258c9",
   "metadata": {},
   "outputs": [
    {
     "name": "stdout",
     "output_type": "stream",
     "text": [
      "                                  2025\n",
      "\n",
      "      January                   February                   March\n",
      "Mo Tu We Th Fr Sa Su      Mo Tu We Th Fr Sa Su      Mo Tu We Th Fr Sa Su\n",
      "       1  2  3  4  5                      1  2                      1  2\n",
      " 6  7  8  9 10 11 12       3  4  5  6  7  8  9       3  4  5  6  7  8  9\n",
      "13 14 15 16 17 18 19      10 11 12 13 14 15 16      10 11 12 13 14 15 16\n",
      "20 21 22 23 24 25 26      17 18 19 20 21 22 23      17 18 19 20 21 22 23\n",
      "27 28 29 30 31            24 25 26 27 28            24 25 26 27 28 29 30\n",
      "                                                    31\n",
      "\n",
      "       April                      May                       June\n",
      "Mo Tu We Th Fr Sa Su      Mo Tu We Th Fr Sa Su      Mo Tu We Th Fr Sa Su\n",
      "    1  2  3  4  5  6                1  2  3  4                         1\n",
      " 7  8  9 10 11 12 13       5  6  7  8  9 10 11       2  3  4  5  6  7  8\n",
      "14 15 16 17 18 19 20      12 13 14 15 16 17 18       9 10 11 12 13 14 15\n",
      "21 22 23 24 25 26 27      19 20 21 22 23 24 25      16 17 18 19 20 21 22\n",
      "28 29 30                  26 27 28 29 30 31         23 24 25 26 27 28 29\n",
      "                                                    30\n",
      "\n",
      "        July                     August                  September\n",
      "Mo Tu We Th Fr Sa Su      Mo Tu We Th Fr Sa Su      Mo Tu We Th Fr Sa Su\n",
      "    1  2  3  4  5  6                   1  2  3       1  2  3  4  5  6  7\n",
      " 7  8  9 10 11 12 13       4  5  6  7  8  9 10       8  9 10 11 12 13 14\n",
      "14 15 16 17 18 19 20      11 12 13 14 15 16 17      15 16 17 18 19 20 21\n",
      "21 22 23 24 25 26 27      18 19 20 21 22 23 24      22 23 24 25 26 27 28\n",
      "28 29 30 31               25 26 27 28 29 30 31      29 30\n",
      "\n",
      "      October                   November                  December\n",
      "Mo Tu We Th Fr Sa Su      Mo Tu We Th Fr Sa Su      Mo Tu We Th Fr Sa Su\n",
      "       1  2  3  4  5                      1  2       1  2  3  4  5  6  7\n",
      " 6  7  8  9 10 11 12       3  4  5  6  7  8  9       8  9 10 11 12 13 14\n",
      "13 14 15 16 17 18 19      10 11 12 13 14 15 16      15 16 17 18 19 20 21\n",
      "20 21 22 23 24 25 26      17 18 19 20 21 22 23      22 23 24 25 26 27 28\n",
      "27 28 29 30 31            24 25 26 27 28 29 30      29 30 31\n",
      "\n"
     ]
    }
   ],
   "source": [
    "#Calendar of a year\n",
    "import calendar\n",
    "year = int(input(\"Enter year: \"))\n",
    "\n",
    "cal = calendar.calendar(year)\n",
    "\n",
    "\n",
    "print(cal)\n",
    "\n"
   ]
  },
  {
   "cell_type": "markdown",
   "id": "c6190a93",
   "metadata": {},
   "source": [
    "### Program # 9"
   ]
  },
  {
   "cell_type": "code",
   "execution_count": 22,
   "id": "f62c47b8",
   "metadata": {},
   "outputs": [
    {
     "name": "stdout",
     "output_type": "stream",
     "text": [
      "Solving quadratic equation of the form ax^2 + bx + c = 0\n",
      "Coefficient a is: 3.0\n",
      "Coefficient b is: 5.0\n",
      "Coefficient c is: 7.0\n",
      "The first solution is: (-0.83, 1.28)\n",
      "The second solution is: (-0.83, -1.28)\n",
      "*****************End of the program*****************\n"
     ]
    }
   ],
   "source": [
    "#To solve quadratic equation\n",
    "import cmath    \n",
    "print(\"Solving quadratic equation of the form ax^2 + bx + c = 0\")\n",
    "a = float(input(\"Enter coefficient a: \"))\n",
    "print(\"Coefficient a is:\", a)\n",
    "b = float(input(\"Enter coefficient b: \"))\n",
    "print(\"Coefficient b is:\", b)\n",
    "c = float(input(\"Enter coefficient c: \"))\n",
    "print(\"Coefficient c is:\", c)\n",
    "# Calculate the discriminant\n",
    "\n",
    "d = (b**2) - (4*a*c)\n",
    "# Find two solutions    \n",
    "sol1 = (-b + cmath.sqrt(d)) / (2 * a)\n",
    "sol1Round= round(sol1.real, 2),round(sol1.imag, 2)\n",
    "print(f\"The first solution is: {sol1Round}\")\n",
    "\n",
    "sol2 = (-b - cmath.sqrt(d)) / (2 * a)\n",
    "sol2Round = round(sol2.real, 2),round(sol2.imag, 2)\n",
    "print(f\"The second solution is: {sol2Round}\")\n",
    "\n",
    "\n",
    "print(\"*****************End of the program*****************\")"
   ]
  },
  {
   "cell_type": "markdown",
   "id": "db5ccb58",
   "metadata": {},
   "source": [
    "### Program # 10"
   ]
  },
  {
   "cell_type": "code",
   "execution_count": 23,
   "id": "39ce9f56",
   "metadata": {},
   "outputs": [
    {
     "name": "stdout",
     "output_type": "stream",
     "text": [
      "Before swapping(a):  5\n",
      "Before swapping(b):  6\n",
      "After swapping(a):  6\n",
      "After swapping(b):  5\n"
     ]
    }
   ],
   "source": [
    "# without using a temporary variable\n",
    "a = input(\"Enter first variable: \")\n",
    "b = input(\"Enter second variable: \")\n",
    "\n",
    "print(\"Before swapping(a): \",a)\n",
    "print(\"Before swapping(b): \",b)\n",
    "\n",
    "a, b = b, a\n",
    "print(\"After swapping(a): \",a)\n",
    "print(\"After swapping(b): \",b)"
   ]
  },
  {
   "cell_type": "markdown",
   "id": "6e0b75be",
   "metadata": {},
   "source": [
    "### Program # 11"
   ]
  },
  {
   "cell_type": "code",
   "execution_count": 27,
   "id": "9a8f0152",
   "metadata": {},
   "outputs": [
    {
     "name": "stdout",
     "output_type": "stream",
     "text": [
      "The number is positive.\n"
     ]
    }
   ],
   "source": [
    "#check positive or negative number and zero\n",
    "n = float(input(\"Enter a number: \"))\n",
    "if n > 0:\n",
    "    print(\"The number is positive.\")    \n",
    "elif n < 0:\n",
    "    print(\"The number is negative.\")        \n",
    "else:\n",
    "    print(\"The number is zero.\")\n",
    "    "
   ]
  },
  {
   "cell_type": "markdown",
   "id": "dfcb073d",
   "metadata": {},
   "source": [
    "### Program # 12"
   ]
  },
  {
   "cell_type": "code",
   "execution_count": 29,
   "id": "afbab06c",
   "metadata": {},
   "outputs": [
    {
     "name": "stdout",
     "output_type": "stream",
     "text": [
      "Number: 45\n",
      "45 is an odd number.\n"
     ]
    }
   ],
   "source": [
    "#Check if a number is even or odd\n",
    "n = int(input(\"Enter a number: \"))\n",
    "print(\"Number:\", n)\n",
    "if n % 2 == 0:\n",
    "    print(f\"{n} is an even number.\")\n",
    "else:\n",
    "    print(f\"{n} is an odd number.\") "
   ]
  },
  {
   "cell_type": "markdown",
   "id": "950445fa",
   "metadata": {},
   "source": [
    "### Program # 13"
   ]
  },
  {
   "cell_type": "code",
   "execution_count": 35,
   "id": "c72312cf",
   "metadata": {},
   "outputs": [
    {
     "name": "stdout",
     "output_type": "stream",
     "text": [
      "2025 is not a leap year.\n"
     ]
    }
   ],
   "source": [
    "#Check leap year\n",
    "year = int(input(\"Enter a year: \"))\n",
    "\n",
    "#logic to check if a year is a leap year\n",
    "# A year is a leap year if it is divisible by 4, but not divisible by 100, unless it is also divisible by 400.\n",
    "# For example, 2000 and 2012 are leap years, but 1900 is not a leap year.\n",
    "\n",
    "if (year % 4 == 0 and year % 100 != 0) or (year % 400 == 0):\n",
    "    print(f\"{year} is a leap year.\")\n",
    "\n",
    "else:\n",
    "    print(f\"{year} is not a leap year.\")\n",
    "\n"
   ]
  },
  {
   "cell_type": "markdown",
   "id": "88f878cc",
   "metadata": {},
   "source": [
    "### Program # 14"
   ]
  },
  {
   "cell_type": "code",
   "execution_count": 37,
   "id": "19eda2c4",
   "metadata": {},
   "outputs": [
    {
     "name": "stdout",
     "output_type": "stream",
     "text": [
      "15 is not a prime number.\n"
     ]
    }
   ],
   "source": [
    "#Check prime number\n",
    "\n",
    "num = int(input(\"Enter a number: \"))\n",
    "\n",
    "if num > 1:\n",
    "    for i in range(2, int(num**0.5) + 1):\n",
    "        if (num % i) == 0:\n",
    "            print(f\"{num} is not a prime number.\")\n",
    "            break\n",
    "    else:\n",
    "        print(f\"{num} is a prime number.\")"
   ]
  },
  {
   "cell_type": "markdown",
   "id": "f7cbbf0d",
   "metadata": {},
   "source": [
    "### Program # 15"
   ]
  },
  {
   "cell_type": "code",
   "execution_count": 39,
   "id": "b8bf604d",
   "metadata": {},
   "outputs": [
    {
     "name": "stdout",
     "output_type": "stream",
     "text": [
      "2 is a prime number.\n",
      "3 is a prime number.\n",
      "5 is a prime number.\n",
      "7 is a prime number.\n",
      "11 is a prime number.\n",
      "13 is a prime number.\n",
      "17 is a prime number.\n",
      "19 is a prime number.\n",
      "23 is a prime number.\n",
      "29 is a prime number.\n"
     ]
    }
   ],
   "source": [
    "#Check prime number in a range\n",
    "start = int(input(\"Enter the start of the range: \"))\n",
    "end = int(input(\"Enter the end of the range: \"))    \n",
    "\n",
    "for num in range(start, end + 1):\n",
    "    if num > 1:\n",
    "        for i in range(2, int(num**0.5) + 1):\n",
    "            if (num % i) == 0:\n",
    "                break\n",
    "        else:\n",
    "            print(f\"{num} is a prime number.\")\n",
    "    else:\n",
    "        print(f\"{num} is not a prime number.\")"
   ]
  },
  {
   "cell_type": "markdown",
   "id": "a71331a6",
   "metadata": {},
   "source": [
    "### Program # 16"
   ]
  },
  {
   "cell_type": "code",
   "execution_count": 5,
   "id": "304d6e38",
   "metadata": {},
   "outputs": [
    {
     "name": "stdout",
     "output_type": "stream",
     "text": [
      "The factorial of 6 is 720\n"
     ]
    }
   ],
   "source": [
    "#Factorial of a number\n",
    "num = int(input(\"Enter a number to find its factorial: \"))\n",
    "\n",
    "def factorial(n):\n",
    "    if n == 0 or n == 1:\n",
    "        return 1\n",
    "    else:\n",
    "        return n * factorial(n - 1)\n",
    "\n",
    "print(f\"The factorial of {num} is {factorial(num)}\")   "
   ]
  },
  {
   "cell_type": "markdown",
   "id": "1b730b04",
   "metadata": {},
   "source": [
    "### Program # 17"
   ]
  },
  {
   "cell_type": "code",
   "execution_count": 6,
   "id": "59e520ad",
   "metadata": {},
   "outputs": [
    {
     "name": "stdout",
     "output_type": "stream",
     "text": [
      "7 x 1 = 7\n",
      "7 x 2 = 14\n",
      "7 x 3 = 21\n",
      "7 x 4 = 28\n",
      "7 x 5 = 35\n",
      "7 x 6 = 42\n",
      "7 x 7 = 49\n",
      "7 x 8 = 56\n",
      "7 x 9 = 63\n",
      "7 x 10 = 70\n"
     ]
    }
   ],
   "source": [
    "#Multiplication table\n",
    "num = int(input(\"Enter a number to generate its multiplication table: \"))\n",
    "\n",
    "for i in range(1, 11):\n",
    "\n",
    "    print(f\"{num} x {i} = {num * i}\")\n",
    "    "
   ]
  },
  {
   "cell_type": "markdown",
   "id": "8169867a",
   "metadata": {},
   "source": [
    "### Program # 18"
   ]
  },
  {
   "cell_type": "code",
   "execution_count": 15,
   "id": "8792211b",
   "metadata": {},
   "outputs": [
    {
     "name": "stdout",
     "output_type": "stream",
     "text": [
      "0 1 1 2 3 5 8 13 21 34 "
     ]
    }
   ],
   "source": [
    "#Fibonacci series\n",
    "#initialize the first two terms\n",
    "n1,n2 = 0, 1\n",
    "\n",
    "count = 0\n",
    "\n",
    "n_terms = int(input(\"Enter the number of terms in the Fibonacci series: \"))\n",
    "\n",
    "while count < n_terms:\n",
    "    print(n1, end=' ')\n",
    "    nth = n1 + n2\n",
    "    # update values\n",
    "    n1 = n2\n",
    "    n2 = nth\n",
    "    count += 1"
   ]
  },
  {
   "cell_type": "markdown",
   "id": "dc685d04",
   "metadata": {},
   "source": [
    "### Program # 19"
   ]
  },
  {
   "cell_type": "code",
   "execution_count": 19,
   "id": "22d36fe7",
   "metadata": {},
   "outputs": [
    {
     "name": "stdout",
     "output_type": "stream",
     "text": [
      "153 is an Armstrong number.\n"
     ]
    }
   ],
   "source": [
    "#Check Armstrong number\n",
    "#An Armstrong number (or narcissistic number) is a number that is equal     \n",
    "# to the sum of its own digits each raised to the power of the number of digits. \n",
    "# For example, 153 is an Armstrong number because 1^3 + 5^3 + 3^3 = 153.\n",
    "num = int(input(\"Enter a number to check if it is an Armstrong number: \"))\n",
    "power = len(str(num))\n",
    "total = 0\n",
    "for digit in str(num):\n",
    "    total += int(digit) ** power\n",
    "if total == num:\n",
    "    print(f\"{num} is an Armstrong number.\")\n",
    "else:\n",
    "    print(f\"{num} is not an Armstrong number.\")\n"
   ]
  },
  {
   "cell_type": "markdown",
   "id": "7195208a",
   "metadata": {},
   "source": [
    "### Program # 20"
   ]
  },
  {
   "cell_type": "code",
   "execution_count": 18,
   "id": "5905b622",
   "metadata": {},
   "outputs": [
    {
     "name": "stdout",
     "output_type": "stream",
     "text": [
      "4 is an Armstrong number.\n",
      "5 is an Armstrong number.\n",
      "6 is an Armstrong number.\n",
      "7 is an Armstrong number.\n",
      "8 is an Armstrong number.\n",
      "9 is an Armstrong number.\n",
      "10 is not an Armstrong number.\n",
      "11 is not an Armstrong number.\n",
      "12 is not an Armstrong number.\n",
      "13 is not an Armstrong number.\n",
      "14 is not an Armstrong number.\n"
     ]
    }
   ],
   "source": [
    "#Check Armstrong numbers in an interval\n",
    "start = int(input(\"Enter the start of the interval: \"))\n",
    "end = int(input(\"Enter the end of the interval: \"))\n",
    "for num in range(start, end + 1):\n",
    "    power = len(str(num))\n",
    "    total = 0\n",
    "    for digit in str(num):\n",
    "        total += int(digit) ** power\n",
    "    if total == num:\n",
    "        print(f\"{num} is an Armstrong number.\")\n",
    "    else:\n",
    "        print(f\"{num} is not an Armstrong number.\")"
   ]
  },
  {
   "cell_type": "markdown",
   "id": "7bc2f333",
   "metadata": {},
   "source": [
    "### Program # 21"
   ]
  },
  {
   "cell_type": "code",
   "execution_count": 17,
   "id": "88300a2e",
   "metadata": {},
   "outputs": [
    {
     "name": "stdout",
     "output_type": "stream",
     "text": [
      "The sum of natural numbers up to 70 is: 2485\n"
     ]
    }
   ],
   "source": [
    "#Sum of natural numbers upto certain limit\n",
    "#Natural numbers are the positive integers starting from 1.\n",
    "\n",
    "limit = int(input(\"Enter the limit: \"))\n",
    "\n",
    "add = 0\n",
    "\n",
    "for i in range(1, limit + 1):\n",
    "    add += i\n",
    "print(f\"The sum of natural numbers up to {limit} is: {add}\")\n"
   ]
  },
  {
   "cell_type": "markdown",
   "id": "50b650d1",
   "metadata": {},
   "source": [
    "### Program # 22"
   ]
  },
  {
   "cell_type": "code",
   "execution_count": 1,
   "id": "ebeeffba",
   "metadata": {},
   "outputs": [
    {
     "name": "stdout",
     "output_type": "stream",
     "text": [
      "The LCM of 6 and 24 is: 24\n"
     ]
    }
   ],
   "source": [
    "#calculate LCM\n",
    "def lcm(x, y):\n",
    "    if x > y:\n",
    "        greater = x\n",
    "    else:\n",
    "        greater = y\n",
    "\n",
    "    while True:\n",
    "        if greater % x == 0 and greater % y == 0:\n",
    "            lcm = greater\n",
    "            break\n",
    "        \n",
    "\n",
    "    return lcm\n",
    "# Get input from the user\n",
    "\n",
    "num1 = int(input(\"Enter first number: \"))\n",
    "num2 = int(input(\"Enter second number: \"))\n",
    "print(f\"The LCM of {num1} and {num2} is: {lcm(num1, num2)}\")"
   ]
  },
  {
   "cell_type": "markdown",
   "id": "2b68ed3a",
   "metadata": {},
   "source": [
    "### Program # 23"
   ]
  },
  {
   "cell_type": "code",
   "execution_count": 3,
   "id": "c947ba0a",
   "metadata": {},
   "outputs": [
    {
     "name": "stdout",
     "output_type": "stream",
     "text": [
      "The GCD of 2, 4, and 8 is: 2\n"
     ]
    }
   ],
   "source": [
    "#Calculate GCD\n",
    "#HCF(highest Common Factor) or GCD(Greatest Common Divisor) is the largest number that divides two or more numbers without leaving a remainder.\n",
    "# The GCD can be calculated using the Euclidean algorithm.  \n",
    "\n",
    "def gcd(x, y):\n",
    "    while y:\n",
    "        x, y = y, x % y\n",
    "    return x\n",
    "# Get input from the user\n",
    "num1 = int(input(\"Enter first number: \"))\n",
    "num2 = int(input(\"Enter second number: \"))\n",
    "num3 = int(input(\"Enter third number: \"))\n",
    "print(f\"The GCD of {num1}, {num2}, and {num3} is: {gcd(gcd(num1, num2), num3)}\")\n"
   ]
  },
  {
   "cell_type": "markdown",
   "id": "ec53f7cb",
   "metadata": {},
   "source": [
    "### Program # 24"
   ]
  },
  {
   "cell_type": "code",
   "execution_count": 8,
   "id": "7da7eb73",
   "metadata": {},
   "outputs": [
    {
     "name": "stdout",
     "output_type": "stream",
     "text": [
      "Converting decimal to binary, octal, and hexadecimal\n",
      "Binary: 101011001\n",
      "Octal: 531\n",
      "Hexadecimal: 159\n"
     ]
    }
   ],
   "source": [
    "#Convert decimal to binary,octal, and hexadecimal\n",
    "\n",
    "print(\"Converting decimal to binary, octal, and hexadecimal\")\n",
    "decimal = int(input(\"Enter a decimal number: \"))\n",
    "if decimal < 0:\n",
    "    raise ValueError(\"Please enter a non-negative integer.\")\n",
    "\n",
    "binary = bin(decimal)[2:] # Convert to binary and remove '0b' prefix\n",
    "octal = oct(decimal)[2:]   # Convert to octal and remove '0o    ' prefix\n",
    "hexadecimal = hex(decimal)[2:] # Convert to hexadecimal and remove '0x' \n",
    "\n",
    "\n",
    "print(f\"Binary: {binary}\")\n",
    "print(f\"Octal: {octal}\")        \n",
    "print(f\"Hexadecimal: {hexadecimal}\")\n"
   ]
  },
  {
   "cell_type": "markdown",
   "id": "4b141980",
   "metadata": {},
   "source": [
    "### Program # 25"
   ]
  },
  {
   "cell_type": "code",
   "execution_count": 12,
   "id": "2e046fdf",
   "metadata": {},
   "outputs": [
    {
     "name": "stdout",
     "output_type": "stream",
     "text": [
      "The ASCII value of 'P' is : 80\n"
     ]
    }
   ],
   "source": [
    "#Find ASCII value of a character\n",
    "\n",
    "char = input(\"Enter a character: \")\n",
    "ascii_value = ord(char) # Get ASCII value using ord() function\n",
    "\n",
    "print(f\"The ASCII value of '{char}' is : {ascii_value}\")"
   ]
  },
  {
   "cell_type": "markdown",
   "id": "f31948a9",
   "metadata": {},
   "source": [
    "### Program # 26"
   ]
  },
  {
   "cell_type": "code",
   "execution_count": 20,
   "id": "b6e60059",
   "metadata": {},
   "outputs": [
    {
     "name": "stdout",
     "output_type": "stream",
     "text": [
      "********Simple Calculator**********\n",
      "Select operation:\n",
      "1. Addition\n",
      "2. Subtraction\n",
      "3. Multiplication\n",
      "4. Division\n"
     ]
    },
    {
     "name": "stdout",
     "output_type": "stream",
     "text": [
      "The result of multiplication is: 10.0\n",
      "Exiting the calculator. Goodbye!\n"
     ]
    }
   ],
   "source": [
    "#Simple calculator\n",
    "\n",
    "print(\"********Simple Calculator**********\")\n",
    "\n",
    "print(\"Select operation:\")\n",
    "print(\"1. Addition\")    \n",
    "print(\"2. Subtraction\")\n",
    "print(\"3. Multiplication\")\n",
    "print(\"4. Division\")\n",
    "\n",
    "\n",
    "while True:\n",
    "    choice = input(\"Enter choice (1/2/3/4): \")\n",
    "\n",
    "\n",
    "    if choice in ('1', '2', '3', '4'):\n",
    "     num1 = float(input(\"Enter first number: \"))\n",
    "     num2 = float(input(\"Enter second number: \"))\n",
    "\n",
    "    if choice == '1':\n",
    "      result = num1 + num2\n",
    "      print(f\"The result of addition is: {result}\")\n",
    "    elif choice == '2':\n",
    "        result = num1 - num2\n",
    "        print(f\"The result of subtraction is: {result}\")\n",
    "    elif choice == '3':\n",
    "        result = num1 * num2\n",
    "        print(f\"The result of multiplication is: {result}\")\n",
    "    elif choice == '4':\n",
    "        if num2 == 0:\n",
    "            raise ValueError(\"Cannot divide by zero\")\n",
    "        result = num1 / num2\n",
    "        print(f\"The result of division is: {result}\")\n",
    "\n",
    "    next_calculation = input(\"Do you want to perform another calculation? (yes/no): \")\n",
    "    if next_calculation.lower() != 'yes':\n",
    "        print(\"Exiting the calculator. Goodbye!\")\n",
    "        break\n",
    "\n"
   ]
  },
  {
   "cell_type": "markdown",
   "id": "3af43c61",
   "metadata": {},
   "source": [
    "### Program # 27"
   ]
  },
  {
   "cell_type": "code",
   "execution_count": null,
   "id": "4852d67d",
   "metadata": {},
   "outputs": [
    {
     "name": "stdout",
     "output_type": "stream",
     "text": [
      "The Fibonacci sequence with 5 terms is: [0, 1, 1, 2, 3]\n"
     ]
    }
   ],
   "source": [
    "#Display Fibonacci sequence using recursion\n",
    "\n",
    "def fibonacci(n):\n",
    "    if n <= 0:\n",
    "        return []\n",
    "    elif n == 1:\n",
    "        return [0]\n",
    "    elif n == 2:\n",
    "        return [0, 1]\n",
    "    else:\n",
    "        fib_sequence = fibonacci(n - 1)  # Get the Fibonacci sequence up to n-1 terms\n",
    "        # Append the next term to the sequence\n",
    "        fib_sequence.append(fib_sequence[-1] + fib_sequence[-2])\n",
    "        return fib_sequence\n",
    "    \n",
    "n_terms = int(input(\"Enter the number of terms in the Fibonacci sequence: \"))\n",
    "fib_sequence = fibonacci(n_terms)\n",
    "print(f\"The Fibonacci sequence with {n_terms} terms is: {fib_sequence}\")"
   ]
  },
  {
   "cell_type": "markdown",
   "id": "c9320bc2",
   "metadata": {},
   "source": [
    "### Program # 28"
   ]
  },
  {
   "cell_type": "code",
   "execution_count": 3,
   "id": "c581dc4d",
   "metadata": {},
   "outputs": [
    {
     "name": "stdout",
     "output_type": "stream",
     "text": [
      "The factorial of 5, is 120\n"
     ]
    }
   ],
   "source": [
    "#Factorial using recursion\n",
    "def recur_factorial(n):\n",
    "    if n == 1:\n",
    "        return n\n",
    "    else:\n",
    "        return n*recur_factorial(n-1)\n",
    "\n",
    "num = int(input(\"Enter a number: \"))\n",
    "\n",
    "if num<0:\n",
    "    print(\"Factorial does not exist for negative numbers\")\n",
    "elif num==0:\n",
    "    print(\"Factorial of 0 is 1\")\n",
    "else:\n",
    "    print(f\"The factorial of {num}, is {recur_factorial(num)}\")"
   ]
  },
  {
   "cell_type": "markdown",
   "id": "a740e01d",
   "metadata": {},
   "source": [
    "### Program # 29"
   ]
  },
  {
   "cell_type": "code",
   "execution_count": 10,
   "id": "a80d452c",
   "metadata": {},
   "outputs": [
    {
     "name": "stdout",
     "output_type": "stream",
     "text": [
      "*****WELCOME TO BMI CALCULATOR******\n",
      "Your BMI is: 24.22\n",
      "Your Weight is Normal.\n"
     ]
    }
   ],
   "source": [
    "#Body Mass index\n",
    "print(\"*****WELCOME TO BMI CALCULATOR******\")\n",
    "weight = float(input(\"Enter Your Weight(kg): \"))\n",
    "height= float(input(\"Enter Your Height(meters): \"))\n",
    "\n",
    "BMI = round((weight/height**2),2)\n",
    "\n",
    "print(\"Your BMI is:\" ,BMI)\n",
    "\n",
    "if BMI<18.5:\n",
    "    print(\"You are underweight.\")\n",
    "elif 18.5 < BMI < 24.9:\n",
    "    print(\"Your Weight is Normal.\")\n",
    "\n",
    "else:\n",
    "    print(\"You are Obese.\")"
   ]
  },
  {
   "cell_type": "markdown",
   "id": "6d34d3fd",
   "metadata": {},
   "source": [
    "### Program # 30"
   ]
  },
  {
   "cell_type": "code",
   "execution_count": 12,
   "id": "5629b6db",
   "metadata": {},
   "outputs": [
    {
     "name": "stdout",
     "output_type": "stream",
     "text": [
      "Natural log of 50.0 is 3.91\n"
     ]
    }
   ],
   "source": [
    "#natural logarithm of any number\n",
    "\n",
    "import math\n",
    "\n",
    "num = float(input('Enter a number: '))\n",
    "\n",
    "if num<0:\n",
    "    print(\"Please enter a Positive number\")\n",
    "else:\n",
    "    result =round(math.log(num),2)\n",
    "    print(f\"Natural log of {num} is {result}\")"
   ]
  },
  {
   "cell_type": "markdown",
   "id": "5a9841fe",
   "metadata": {},
   "source": [
    "### Program # 31"
   ]
  },
  {
   "cell_type": "code",
   "execution_count": null,
   "id": "9adbc037",
   "metadata": {},
   "outputs": [
    {
     "name": "stdout",
     "output_type": "stream",
     "text": [
      "[1, 8, 27, 64, 125, 216]\n",
      "Cube Sum of 1st n natural numbers is 441\n"
     ]
    }
   ],
   "source": [
    "#Cube sum of first n natural numbers\n",
    "num = int(input(\"Enter the value of n: \"))\n",
    "\n",
    "result=[i**3 for i in range(1,num+1)]\n",
    "total = 0\n",
    "for value in result:\n",
    "    total += value\n",
    "\n",
    "print(result)\n",
    "\n",
    "print(f\"Cube Sum of 1st n natural numbers is: {total}\")\n",
    "\n",
    "\n"
   ]
  },
  {
   "cell_type": "markdown",
   "id": "3b2ef4e1",
   "metadata": {},
   "source": [
    "### Program # 32"
   ]
  },
  {
   "cell_type": "code",
   "execution_count": 24,
   "id": "900e98e5",
   "metadata": {},
   "outputs": [
    {
     "name": "stdout",
     "output_type": "stream",
     "text": [
      "The Sum of array is: 20\n"
     ]
    }
   ],
   "source": [
    "#find sum of array elements in array\n",
    "\n",
    "arr = [2,4,6,8]\n",
    "\n",
    "total= 0\n",
    "for value in arr:\n",
    "    total += value\n",
    "\n",
    "\n",
    "\n",
    "print(f\"The Sum of array is: {total}\")"
   ]
  },
  {
   "cell_type": "markdown",
   "id": "7b9bc2f3",
   "metadata": {},
   "source": [
    "### Program # 33"
   ]
  },
  {
   "cell_type": "code",
   "execution_count": 29,
   "id": "4a0caaf4",
   "metadata": {},
   "outputs": [
    {
     "name": "stdout",
     "output_type": "stream",
     "text": [
      "Largest element in array is: 50\n"
     ]
    }
   ],
   "source": [
    "#Largest element in an array\n",
    "arr = [5,3,25,50,13]\n",
    "\n",
    "largest_ele = arr[0]\n",
    "\n",
    "for element in arr:\n",
    "    if element>largest_ele:\n",
    "        largest_ele = element\n",
    "\n",
    "print(f\"Largest element in array is: {largest_ele}\")"
   ]
  },
  {
   "cell_type": "markdown",
   "id": "b58f2530",
   "metadata": {},
   "source": [
    "### Program # 34"
   ]
  },
  {
   "cell_type": "code",
   "execution_count": 2,
   "id": "24b15823",
   "metadata": {},
   "outputs": [
    {
     "name": "stdout",
     "output_type": "stream",
     "text": [
      "Left Rotation: [3, 4, 5, 1, 2]\n"
     ]
    }
   ],
   "source": [
    "#left Array Rotation\n",
    "arr = [1,2,3,4,5]\n",
    "\n",
    "k = 2  # Number of rotations\n",
    "\n",
    "\n",
    "left_rotated = arr[k:] + arr[:k]\n",
    "print(\"Left Rotation:\", left_rotated)  # [3, 4, 5, 1, 2]\n",
    "\n",
    "\n"
   ]
  },
  {
   "cell_type": "markdown",
   "id": "8f62625a",
   "metadata": {},
   "source": [
    "### Program # 35"
   ]
  },
  {
   "cell_type": "code",
   "execution_count": 5,
   "id": "c3922e83",
   "metadata": {},
   "outputs": [
    {
     "name": "stdout",
     "output_type": "stream",
     "text": [
      "Right Rotation: [4, 5, 1, 2, 3]\n"
     ]
    }
   ],
   "source": [
    "#Right Array Rotation\n",
    "arr = [1,2,3,4,5]\n",
    "\n",
    "k = 2\n",
    "\n",
    "right_rotated = arr[-k:] + arr[:-k]\n",
    "\n",
    "print(\"Right Rotation:\" ,right_rotated)\n",
    "\n"
   ]
  },
  {
   "cell_type": "markdown",
   "id": "15030213",
   "metadata": {},
   "source": [
    "### Program # 36"
   ]
  },
  {
   "cell_type": "code",
   "execution_count": null,
   "id": "184208ff",
   "metadata": {},
   "outputs": [
    {
     "name": "stdout",
     "output_type": "stream",
     "text": [
      "arr1 is monotonic : True\n",
      "arr2 is monotonic : False\n",
      "arr3 is monotonic : False\n"
     ]
    }
   ],
   "source": [
    "#Check if array is array  is monotonic\n",
    "def is_monotonic(arr):\n",
    "    increasing = decreasing = False\n",
    "\n",
    "    for i in range(1,len(arr)):\n",
    "        if arr[i] > arr[i-1]:\n",
    "            increasing = True\n",
    "\n",
    "        elif arr[i] < arr[i-1]:\n",
    "            decreasing = True\n",
    "        \n",
    "    return not(increasing and decreasing) ## It’s monotonic only if it’s increasing OR decreasing, but not both\n",
    "\n",
    "arr1 = [1,2,3,3,4]\n",
    "arr2 = [3,2,1,0]\n",
    "arr3 = [1,8,7,3,5]\n",
    "\n",
    "print(\"arr1 is monotonic :\",is_monotonic(arr1))\n",
    "print(\"arr2 is monotonic :\",is_monotonic(arr2))\n",
    "print(\"arr3 is monotonic :\",is_monotonic(arr3))"
   ]
  },
  {
   "cell_type": "markdown",
   "id": "cf753cdb",
   "metadata": {},
   "source": [
    "### Program # 37"
   ]
  },
  {
   "cell_type": "code",
   "execution_count": 4,
   "id": "517316a8",
   "metadata": {},
   "outputs": [
    {
     "name": "stdout",
     "output_type": "stream",
     "text": [
      "[[10 10  7]\n",
      " [ 8  7 12]\n",
      " [13 10 10]]\n"
     ]
    }
   ],
   "source": [
    "#Addition of matrices\n",
    "#Use numpy library\n",
    "import numpy as np\n",
    "\n",
    "A = np.array([\n",
    "    [1,2,3],\n",
    "    [4,5,6],\n",
    "    [7,8,9]\n",
    "    ])\n",
    "\n",
    "B = np.array([\n",
    "    [9,8,4],\n",
    "    [4,2,6],\n",
    "    [6,2,1]\n",
    "])\n",
    "\n",
    "result = A+B\n",
    "\n",
    "print(result)\n",
    "\n"
   ]
  },
  {
   "cell_type": "markdown",
   "id": "65f9028b",
   "metadata": {},
   "source": [
    "### Program # 38"
   ]
  },
  {
   "cell_type": "code",
   "execution_count": 7,
   "id": "59e98b1e",
   "metadata": {},
   "outputs": [
    {
     "name": "stdout",
     "output_type": "stream",
     "text": [
      "[[21 27]\n",
      " [56 69]\n",
      " [49 60]]\n"
     ]
    }
   ],
   "source": [
    "#Multiplication of matrices\n",
    "import numpy as np\n",
    "\n",
    "A = np.array([\n",
    "    [1,2,3],\n",
    "    [4,5,4],\n",
    "    [3,6,2]\n",
    "])\n",
    "\n",
    "B = np.array([\n",
    "    [7,8],\n",
    "    [4,5],\n",
    "    [2,3]\n",
    "])\n",
    "\n",
    "result = np.dot(A,B)\n",
    "\n",
    "print(result)"
   ]
  },
  {
   "cell_type": "markdown",
   "id": "9e9cb0f5",
   "metadata": {},
   "source": [
    "### Program # 39"
   ]
  },
  {
   "cell_type": "code",
   "execution_count": 9,
   "id": "2da081db",
   "metadata": {},
   "outputs": [
    {
     "name": "stdout",
     "output_type": "stream",
     "text": [
      "[[2 7]\n",
      " [4 9]\n",
      " [9 5]]\n"
     ]
    }
   ],
   "source": [
    "#Transpose of a matrix\n",
    "\n",
    "import numpy as np \n",
    "\n",
    "A = np.array([\n",
    "    [2,4,9],\n",
    "    [7,9,5]\n",
    "])\n",
    "\n",
    "result = np.transpose(A)\n",
    "\n",
    "print(result)"
   ]
  },
  {
   "cell_type": "markdown",
   "id": "61c6fcb4",
   "metadata": {},
   "source": [
    "### Program # 40"
   ]
  },
  {
   "cell_type": "code",
   "execution_count": 31,
   "id": "6f73eaa6",
   "metadata": {},
   "outputs": [
    {
     "name": "stdout",
     "output_type": "stream",
     "text": [
      "Sorted Words are:\n",
      "Ahmad\n",
      "Hassan\n",
      "Kashir\n",
      "Numan\n",
      "Umair\n",
      "Zohaib\n"
     ]
    }
   ],
   "source": [
    "#Sort words in alphabetically order\n",
    "\n",
    "my_str = \"Umair,Ahmad,Numan,Kashir,Zohaib,hassan\"\n",
    "\n",
    "#break string into list of words\n",
    "words = [word.capitalize() for word  in my_str.split(\",\")]\n",
    "\n",
    "words.sort()\n",
    "\n",
    "#sorted_names = \",\".join(name_list)\n",
    "\n",
    "print(\"Sorted Words are:\")\n",
    "for word in words:\n",
    "    print(word)\n"
   ]
  },
  {
   "cell_type": "markdown",
   "id": "498b544a",
   "metadata": {},
   "source": [
    "### Program # 41"
   ]
  },
  {
   "cell_type": "code",
   "execution_count": 7,
   "id": "3cdf0ec0",
   "metadata": {},
   "outputs": [
    {
     "name": "stdout",
     "output_type": "stream",
     "text": [
      "Hello world Hows it going\n"
     ]
    }
   ],
   "source": [
    "def remove_punctuation(text):\n",
    "    punctuation = r'''!\"#$%&'()*+,-./:;<=>?@[\\]^_`{|}~'''\n",
    "    result = ''\n",
    "    for char in text:\n",
    "        if char not in punctuation:\n",
    "            result += char\n",
    "    return result\n",
    "\n",
    "s = \"Hello, world! How's it going?\"\n",
    "clean_s = remove_punctuation(s)\n",
    "print(clean_s)\n"
   ]
  },
  {
   "cell_type": "markdown",
   "id": "c20d60e3",
   "metadata": {},
   "source": [
    "### Program # 42"
   ]
  },
  {
   "cell_type": "code",
   "execution_count": 1,
   "id": "2331111b",
   "metadata": {},
   "outputs": [
    {
     "name": "stdout",
     "output_type": "stream",
     "text": [
      "135 is a Disarium Number\n",
      "175 is a Disarium Number\n",
      "89 is a Disarium Number\n",
      "80 is NOT a Disarium Number\n"
     ]
    }
   ],
   "source": [
    "#Chech number is Disarium\n",
    "def is_disarium(num):\n",
    "    digits = str(num)\n",
    "    total = 0\n",
    "    for i, digit in enumerate(digits, start=1):\n",
    "        total += int(digit) ** i\n",
    "    return total == num\n",
    "\n",
    "test_nums = [135, 175, 89, 80]\n",
    "\n",
    "for n in test_nums:\n",
    "    if is_disarium(n):\n",
    "        print(f\"{n} is a Disarium Number\")\n",
    "    else:\n",
    "        print(f\"{n} is NOT a Disarium Number\")\n",
    "\n"
   ]
  },
  {
   "cell_type": "markdown",
   "id": "03ffd29d",
   "metadata": {},
   "source": [
    "### Program # 43"
   ]
  },
  {
   "cell_type": "code",
   "execution_count": 3,
   "id": "e8cb1d59",
   "metadata": {},
   "outputs": [
    {
     "name": "stdout",
     "output_type": "stream",
     "text": [
      "130 is NOT a Disarium Number\n",
      "131 is NOT a Disarium Number\n",
      "132 is NOT a Disarium Number\n",
      "133 is NOT a Disarium Number\n",
      "134 is NOT a Disarium Number\n",
      "135 is a Disarium Number\n",
      "136 is NOT a Disarium Number\n",
      "137 is NOT a Disarium Number\n",
      "138 is NOT a Disarium Number\n",
      "139 is NOT a Disarium Number\n"
     ]
    }
   ],
   "source": [
    "#Check disarium numbers in a range\n",
    "\n",
    "def is_disarium(num):\n",
    "    digits = str(num)\n",
    "    total = 0\n",
    "    for i, digit in enumerate(digits, start=1):\n",
    "        total += int(digit) ** i\n",
    "    return total == num\n",
    "\n",
    "\n",
    "for n in range(130,140):\n",
    "    if is_disarium(n):\n",
    "        print(f\"{n} is a Disarium Number\")\n",
    "    else:\n",
    "        print(f\"{n} is NOT a Disarium Number\")\n"
   ]
  },
  {
   "cell_type": "markdown",
   "id": "bc2a2865",
   "metadata": {},
   "source": [
    "### Program # 44"
   ]
  },
  {
   "cell_type": "code",
   "execution_count": null,
   "id": "5658c2e3",
   "metadata": {},
   "outputs": [
    {
     "name": "stdout",
     "output_type": "stream",
     "text": [
      "19 is a Happy Number\n",
      "20 is NOT a Happy Number\n",
      "7 is a Happy Number\n"
     ]
    }
   ],
   "source": [
    "#Happy numbers\n",
    "def is_happy(num):\n",
    "    seen = set()\n",
    "    while num != 1 and num not in seen:\n",
    "        seen.add(num)\n",
    "        num = sum(int(digit)**2 for digit in str(num))\n",
    "    return num == 1\n",
    "\n",
    "\n",
    "test_nums = [19, 20, 7]\n",
    "\n",
    "for n in test_nums:\n",
    "    if is_happy(n):\n",
    "        print(f\"{n} is a Happy Number\")\n",
    "    else:\n",
    "        print(f\"{n} is NOT a Happy Number\")\n"
   ]
  },
  {
   "cell_type": "markdown",
   "id": "03e25aa4",
   "metadata": {},
   "source": [
    "### Program # 45"
   ]
  },
  {
   "cell_type": "code",
   "execution_count": 7,
   "id": "4bfa3139",
   "metadata": {},
   "outputs": [
    {
     "name": "stdout",
     "output_type": "stream",
     "text": [
      "15 is not a Happy number.\n",
      "16 is not a Happy number.\n",
      "17 is not a Happy number.\n",
      "18 is not a Happy number.\n",
      "19 is a Happy number.\n"
     ]
    }
   ],
   "source": [
    "#Happy numbers in a range\n",
    "def is_happy(num):\n",
    "    seen = set()\n",
    "    while num !=1 and num not in seen:\n",
    "        seen.add(num)\n",
    "        num = sum(int(digit)**2 for digit in str(num))\n",
    "    return num == 1\n",
    "    \n",
    "for n in range(15,20):\n",
    "    if is_happy(n):\n",
    "        print(f\"{n} is a Happy number.\")\n",
    "\n",
    "    else:\n",
    "        print(f\"{n} is not a Happy number.\")"
   ]
  },
  {
   "cell_type": "markdown",
   "id": "f9858fda",
   "metadata": {},
   "source": [
    "### Program # 46"
   ]
  },
  {
   "cell_type": "code",
   "execution_count": 11,
   "id": "7ba5e9e6",
   "metadata": {},
   "outputs": [
    {
     "name": "stdout",
     "output_type": "stream",
     "text": [
      "18 is a Harshad number.\n"
     ]
    }
   ],
   "source": [
    "#Determine Harshad number \n",
    "def is_harshad(num):\n",
    "    #calculate sum of digits of a number\n",
    "\n",
    "    digit_sum = sum(int(digit) for digit in str(num))\n",
    "\n",
    "    return num % digit_sum == 0\n",
    "\n",
    "num = int(input(\"Enter a number: \"))\n",
    "\n",
    "if is_harshad(num):\n",
    "    print(f\"{num} is a Harshad number.\")\n",
    "else:\n",
    "    print(f\"{num} is not a Harshad number.\")\n",
    "\n"
   ]
  },
  {
   "cell_type": "markdown",
   "id": "1e8323af",
   "metadata": {},
   "source": [
    "### Program # 47"
   ]
  },
  {
   "cell_type": "code",
   "execution_count": 34,
   "id": "14787dbe",
   "metadata": {},
   "outputs": [
    {
     "name": "stdout",
     "output_type": "stream",
     "text": [
      "20,30,42,"
     ]
    }
   ],
   "source": [
    "#Determine pronic numbers\n",
    "def is_pronic(num):\n",
    "    for n in range(1,int(num**0.5)+1):\n",
    "        if n * (n+1) == num:\n",
    "            return True\n",
    "    return False\n",
    "      \n",
    "\n",
    "for i in range(15,50):\n",
    "    if is_pronic(i):\n",
    "        \n",
    "        print(i,end=\",\")\n",
    "    \n",
    "       "
   ]
  },
  {
   "cell_type": "markdown",
   "id": "955ed657",
   "metadata": {},
   "source": [
    "### Program # 48"
   ]
  },
  {
   "cell_type": "code",
   "execution_count": 35,
   "id": "69254337",
   "metadata": {},
   "outputs": [
    {
     "name": "stdout",
     "output_type": "stream",
     "text": [
      "sum of numbers in a list:  100\n"
     ]
    }
   ],
   "source": [
    "# Sum of numbers in a list\n",
    "\n",
    "numbers = [10,25,15,20,30]\n",
    "\n",
    "sum = 0\n",
    "\n",
    "for i in numbers:\n",
    "    sum += i\n",
    "\n",
    "print(\"sum of numbers in a list: \",sum)"
   ]
  },
  {
   "cell_type": "markdown",
   "id": "cc01618f",
   "metadata": {},
   "source": [
    "### Program # 49"
   ]
  },
  {
   "cell_type": "code",
   "execution_count": 38,
   "id": "01794c2a",
   "metadata": {},
   "outputs": [
    {
     "name": "stdout",
     "output_type": "stream",
     "text": [
      "Multiply of numbers in a list:  180\n"
     ]
    }
   ],
   "source": [
    "#Multiply numbers in list\n",
    "numbers = [2,3,6,5]\n",
    "\n",
    "mul = 1\n",
    "\n",
    "for i in numbers:\n",
    "    mul *= i\n",
    "\n",
    "print(\"Multiply of numbers in a list: \", mul)"
   ]
  },
  {
   "cell_type": "markdown",
   "id": "90418a48",
   "metadata": {},
   "source": [
    "### Program # 50"
   ]
  },
  {
   "cell_type": "code",
   "execution_count": 47,
   "id": "8df5ad8c",
   "metadata": {},
   "outputs": [
    {
     "name": "stdout",
     "output_type": "stream",
     "text": [
      "The smallest number in a list is:  -200\n"
     ]
    }
   ],
   "source": [
    "# Smallest number in a list\n",
    "\n",
    "numbers = [-200,45,-75,30,-23]\n",
    "\n",
    "smallest = numbers[0]\n",
    "for i in numbers:\n",
    "    if i < smallest:\n",
    "        smallest = i\n",
    "\n",
    "print(\"The smallest number in a list is: \",smallest)\n"
   ]
  }
 ],
 "metadata": {
  "kernelspec": {
   "display_name": "Python 3",
   "language": "python",
   "name": "python3"
  },
  "language_info": {
   "codemirror_mode": {
    "name": "ipython",
    "version": 3
   },
   "file_extension": ".py",
   "mimetype": "text/x-python",
   "name": "python",
   "nbconvert_exporter": "python",
   "pygments_lexer": "ipython3",
   "version": "3.13.6"
  }
 },
 "nbformat": 4,
 "nbformat_minor": 5
}
